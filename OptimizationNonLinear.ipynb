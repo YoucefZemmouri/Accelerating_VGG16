{
 "cells": [
  {
   "cell_type": "code",
   "execution_count": 1,
   "metadata": {
    "collapsed": true
   },
   "outputs": [],
   "source": [
    "import numpy as np\n",
    "import matplotlib.pyplot as plt\n",
    "from gsvd import gsvd\n",
    "import scipy.linalg\n",
    "\n",
    "%matplotlib inline"
   ]
  },
  {
   "cell_type": "markdown",
   "metadata": {},
   "source": [
    "Chargement des données"
   ]
  },
  {
   "cell_type": "code",
   "execution_count": 2,
   "metadata": {},
   "outputs": [],
   "source": [
    "output_conv1 = np.load('Outputs/output_conv1.npy')\n",
    "output_conv1_br = np.load('Outputs/output_conv1_br.npy')\n",
    "\n",
    "weights = np.load('vgg16_weights.npz')"
   ]
  },
  {
   "cell_type": "markdown",
   "metadata": {},
   "source": [
    "Entrées de l'algorithme"
   ]
  },
  {
   "cell_type": "code",
   "execution_count": 3,
   "metadata": {},
   "outputs": [],
   "source": [
    "output = output_conv1_br.reshape(224*224,64)[:100].reshape(10,10,64)\n",
    "Outputs = [output,output]"
   ]
  },
  {
   "cell_type": "code",
   "execution_count": 4,
   "metadata": {
    "collapsed": true
   },
   "outputs": [],
   "source": [
    "W_w = weights['conv1_1_W']\n",
    "W_b = weights['conv1_1_b']"
   ]
  },
  {
   "cell_type": "markdown",
   "metadata": {},
   "source": [
    "Cas linéaire"
   ]
  },
  {
   "cell_type": "code",
   "execution_count": 5,
   "metadata": {
    "collapsed": true
   },
   "outputs": [],
   "source": [
    "def LinearCase(Outputs, W_w, W_b, d_prime):\n",
    "    k = W_w.shape[0]\n",
    "    c = W_w.shape[2]\n",
    "    d = W_w.shape[3]\n",
    "    n = Outputs[0].shape[0]\n",
    "\n",
    "    Y = Outputs[0].reshape(n*n,d).transpose()\n",
    "    for i in range(1,len(Outputs)):\n",
    "        Y = np.concatenate((Y,Outputs[i].reshape(n*n,d).transpose()),axis=1)\n",
    "    Y_bar = np.mean(Y,axis=1,keepdims=True)\n",
    "    Y = Y - Y_bar\n",
    "\n",
    "    Cov = Y.dot(Y.transpose())\n",
    "    w, v = np.linalg.eig(Cov)\n",
    "    M = v[:d_prime].transpose().dot(v[:d_prime])\n",
    "    P = Q = v[:d_prime].transpose()\n",
    "    \n",
    "    W = np.concatenate((W_w.reshape(k*k*c,d),W_b.reshape(1,d))).transpose()\n",
    "    W_prime = Q.transpose().dot(W)\n",
    "    \n",
    "    b = (Y_bar - M.dot(Y_bar)).reshape(d)\n",
    "    \n",
    "    return P, W_prime, b"
   ]
  },
  {
   "cell_type": "code",
   "execution_count": 6,
   "metadata": {},
   "outputs": [],
   "source": [
    "P, W_prime, b = LinearCase(Outputs, W_w, W_b, 50)"
   ]
  },
  {
   "cell_type": "markdown",
   "metadata": {},
   "source": [
    "Cas non-linéaire"
   ]
  },
  {
   "cell_type": "code",
   "execution_count": 7,
   "metadata": {
    "collapsed": true
   },
   "outputs": [],
   "source": [
    "d_prime = 50"
   ]
  },
  {
   "cell_type": "code",
   "execution_count": 139,
   "metadata": {
    "collapsed": true
   },
   "outputs": [],
   "source": [
    "def GSVD(A,Y):\n",
    "    M = np.eye(A.shape[0])\n",
    "    \n",
    "    U,s,V = np.linalg.svd(Y)\n",
    "    sqrtYYT = U.dot(np.diag(s)).dot(U.transpose())\n",
    "    \n",
    "    A_tilde = M.dot(A).dot(sqrtYYT)\n",
    "    U,s,V = np.linalg.svd(A_tilde,full_matrices=True)\n",
    "    \n",
    "    return M.dot(U), s, np.linalg.inv(sqrtYYT).dot(V.transpose())"
   ]
  },
  {
   "cell_type": "code",
   "execution_count": 140,
   "metadata": {
    "collapsed": true
   },
   "outputs": [],
   "source": [
    "k = W_w.shape[0]\n",
    "c = W_w.shape[2]\n",
    "d = W_w.shape[3]\n",
    "n = Outputs[0].shape[0]\n",
    "\n",
    "Y = Outputs[0].reshape(n*n,d).transpose()\n",
    "for i in range(1,len(Outputs)):\n",
    "    Y = np.concatenate((Y,Outputs[i].reshape(n*n,d).transpose()),axis=1)\n",
    "Y_bar = np.mean(Y,axis=1,keepdims=True)\n",
    "Y = Y - Y_bar\n",
    "\n",
    "Z = np.zeros(Y.shape)"
   ]
  },
  {
   "cell_type": "code",
   "execution_count": 141,
   "metadata": {},
   "outputs": [
    {
     "name": "stdout",
     "output_type": "stream",
     "text": [
      "Objective : 1186276.10036\n",
      "Objective : 554940070089.0\n",
      "Objective : 1.36434839288e+15\n",
      "Objective : 3.25184621715e+18\n",
      "Objective : 7.74425585371e+21\n",
      "Objective : 1.84425985059e+25\n",
      "Objective : 4.3920207355e+28\n",
      "Objective : 1.04593970309e+32\n",
      "Objective : 2.49085768993e+35\n",
      "Objective : 5.93186396228e+38\n",
      "Objective : 1.41264634304e+42\n",
      "Objective : 3.36415282479e+45\n",
      "Objective : 8.01157648855e+48\n",
      "Objective : 1.90792039407e+52\n",
      "Objective : 4.54362538424e+55\n",
      "Objective : 1.08204365845e+59\n",
      "Objective : 2.57683761265e+62\n",
      "Objective : 6.13662122608e+65\n",
      "Objective : 1.46140835136e+69\n",
      "Objective : 3.48027732322e+72\n",
      "Objective : 8.28812168428e+75\n"
     ]
    },
    {
     "ename": "KeyboardInterrupt",
     "evalue": "",
     "output_type": "error",
     "traceback": [
      "\u001b[0;31m---------------------------------------------------------------------------\u001b[0m",
      "\u001b[0;31mKeyboardInterrupt\u001b[0m                         Traceback (most recent call last)",
      "\u001b[0;32m<ipython-input-141-24603aaa81c2>\u001b[0m in \u001b[0;36m<module>\u001b[0;34m()\u001b[0m\n\u001b[1;32m     21\u001b[0m     \u001b[0;32mfor\u001b[0m \u001b[0mi\u001b[0m \u001b[0;32min\u001b[0m \u001b[0mrange\u001b[0m\u001b[0;34m(\u001b[0m\u001b[0md\u001b[0m\u001b[0;34m)\u001b[0m\u001b[0;34m:\u001b[0m\u001b[0;34m\u001b[0m\u001b[0m\n\u001b[1;32m     22\u001b[0m         \u001b[0;32mfor\u001b[0m \u001b[0mj\u001b[0m \u001b[0;32min\u001b[0m \u001b[0mrange\u001b[0m\u001b[0;34m(\u001b[0m\u001b[0mn\u001b[0m\u001b[0;34m*\u001b[0m\u001b[0mn\u001b[0m\u001b[0;34m*\u001b[0m\u001b[0mlen\u001b[0m\u001b[0;34m(\u001b[0m\u001b[0mOutputs\u001b[0m\u001b[0;34m)\u001b[0m\u001b[0;34m)\u001b[0m\u001b[0;34m:\u001b[0m\u001b[0;34m\u001b[0m\u001b[0m\n\u001b[0;32m---> 23\u001b[0;31m             \u001b[0mq0\u001b[0m \u001b[0;34m=\u001b[0m \u001b[0;34m(\u001b[0m\u001b[0mnp\u001b[0m\u001b[0;34m.\u001b[0m\u001b[0mmax\u001b[0m\u001b[0;34m(\u001b[0m\u001b[0mY\u001b[0m\u001b[0;34m[\u001b[0m\u001b[0mi\u001b[0m\u001b[0;34m]\u001b[0m\u001b[0;34m[\u001b[0m\u001b[0mj\u001b[0m\u001b[0;34m]\u001b[0m\u001b[0;34m,\u001b[0m\u001b[0;36m0\u001b[0m\u001b[0;34m)\u001b[0m\u001b[0;34m-\u001b[0m\u001b[0mnp\u001b[0m\u001b[0;34m.\u001b[0m\u001b[0mmax\u001b[0m\u001b[0;34m(\u001b[0m\u001b[0mZ_0\u001b[0m\u001b[0;34m[\u001b[0m\u001b[0mi\u001b[0m\u001b[0;34m]\u001b[0m\u001b[0;34m[\u001b[0m\u001b[0mj\u001b[0m\u001b[0;34m]\u001b[0m\u001b[0;34m,\u001b[0m\u001b[0;36m0\u001b[0m\u001b[0;34m)\u001b[0m\u001b[0;34m)\u001b[0m\u001b[0;34m**\u001b[0m\u001b[0;36m2\u001b[0m \u001b[0;34m+\u001b[0m \u001b[0mlambd\u001b[0m\u001b[0;34m*\u001b[0m\u001b[0;34m(\u001b[0m\u001b[0mZ_0\u001b[0m\u001b[0;34m[\u001b[0m\u001b[0mi\u001b[0m\u001b[0;34m]\u001b[0m\u001b[0;34m[\u001b[0m\u001b[0mj\u001b[0m\u001b[0;34m]\u001b[0m\u001b[0;34m-\u001b[0m\u001b[0mY_prime\u001b[0m\u001b[0;34m[\u001b[0m\u001b[0mi\u001b[0m\u001b[0;34m]\u001b[0m\u001b[0;34m[\u001b[0m\u001b[0mj\u001b[0m\u001b[0;34m]\u001b[0m\u001b[0;34m)\u001b[0m\u001b[0;34m**\u001b[0m\u001b[0;36m2\u001b[0m\u001b[0;34m\u001b[0m\u001b[0m\n\u001b[0m\u001b[1;32m     24\u001b[0m             \u001b[0mq1\u001b[0m \u001b[0;34m=\u001b[0m \u001b[0;34m(\u001b[0m\u001b[0mnp\u001b[0m\u001b[0;34m.\u001b[0m\u001b[0mmax\u001b[0m\u001b[0;34m(\u001b[0m\u001b[0mY\u001b[0m\u001b[0;34m[\u001b[0m\u001b[0mi\u001b[0m\u001b[0;34m]\u001b[0m\u001b[0;34m[\u001b[0m\u001b[0mj\u001b[0m\u001b[0;34m]\u001b[0m\u001b[0;34m,\u001b[0m\u001b[0;36m0\u001b[0m\u001b[0;34m)\u001b[0m\u001b[0;34m-\u001b[0m\u001b[0mnp\u001b[0m\u001b[0;34m.\u001b[0m\u001b[0mmax\u001b[0m\u001b[0;34m(\u001b[0m\u001b[0mZ_1\u001b[0m\u001b[0;34m[\u001b[0m\u001b[0mi\u001b[0m\u001b[0;34m]\u001b[0m\u001b[0;34m[\u001b[0m\u001b[0mj\u001b[0m\u001b[0;34m]\u001b[0m\u001b[0;34m,\u001b[0m\u001b[0;36m0\u001b[0m\u001b[0;34m)\u001b[0m\u001b[0;34m)\u001b[0m\u001b[0;34m**\u001b[0m\u001b[0;36m2\u001b[0m \u001b[0;34m+\u001b[0m \u001b[0mlambd\u001b[0m\u001b[0;34m*\u001b[0m\u001b[0;34m(\u001b[0m\u001b[0mZ_1\u001b[0m\u001b[0;34m[\u001b[0m\u001b[0mi\u001b[0m\u001b[0;34m]\u001b[0m\u001b[0;34m[\u001b[0m\u001b[0mj\u001b[0m\u001b[0;34m]\u001b[0m\u001b[0;34m-\u001b[0m\u001b[0mY_prime\u001b[0m\u001b[0;34m[\u001b[0m\u001b[0mi\u001b[0m\u001b[0;34m]\u001b[0m\u001b[0;34m[\u001b[0m\u001b[0mj\u001b[0m\u001b[0;34m]\u001b[0m\u001b[0;34m)\u001b[0m\u001b[0;34m**\u001b[0m\u001b[0;36m2\u001b[0m\u001b[0;34m\u001b[0m\u001b[0m\n\u001b[1;32m     25\u001b[0m             \u001b[0;32mif\u001b[0m \u001b[0mq0\u001b[0m \u001b[0;34m<\u001b[0m \u001b[0mq1\u001b[0m\u001b[0;34m:\u001b[0m\u001b[0;34m\u001b[0m\u001b[0m\n",
      "\u001b[0;32m~/anaconda3/lib/python3.6/site-packages/numpy/core/fromnumeric.py\u001b[0m in \u001b[0;36mamax\u001b[0;34m(a, axis, out, keepdims)\u001b[0m\n\u001b[1;32m   2247\u001b[0m             \u001b[0;32mpass\u001b[0m\u001b[0;34m\u001b[0m\u001b[0m\n\u001b[1;32m   2248\u001b[0m         \u001b[0;32melse\u001b[0m\u001b[0;34m:\u001b[0m\u001b[0;34m\u001b[0m\u001b[0m\n\u001b[0;32m-> 2249\u001b[0;31m             \u001b[0;32mreturn\u001b[0m \u001b[0mamax\u001b[0m\u001b[0;34m(\u001b[0m\u001b[0maxis\u001b[0m\u001b[0;34m=\u001b[0m\u001b[0maxis\u001b[0m\u001b[0;34m,\u001b[0m \u001b[0mout\u001b[0m\u001b[0;34m=\u001b[0m\u001b[0mout\u001b[0m\u001b[0;34m,\u001b[0m \u001b[0;34m**\u001b[0m\u001b[0mkwargs\u001b[0m\u001b[0;34m)\u001b[0m\u001b[0;34m\u001b[0m\u001b[0m\n\u001b[0m\u001b[1;32m   2250\u001b[0m \u001b[0;34m\u001b[0m\u001b[0m\n\u001b[1;32m   2251\u001b[0m     return _methods._amax(a, axis=axis,\n",
      "\u001b[0;32m~/anaconda3/lib/python3.6/site-packages/numpy/core/_methods.py\u001b[0m in \u001b[0;36m_amax\u001b[0;34m(a, axis, out, keepdims)\u001b[0m\n\u001b[1;32m     23\u001b[0m \u001b[0;31m# avoid keyword arguments to speed up parsing, saves about 15%-20% for very\u001b[0m\u001b[0;34m\u001b[0m\u001b[0;34m\u001b[0m\u001b[0m\n\u001b[1;32m     24\u001b[0m \u001b[0;31m# small reductions\u001b[0m\u001b[0;34m\u001b[0m\u001b[0;34m\u001b[0m\u001b[0m\n\u001b[0;32m---> 25\u001b[0;31m \u001b[0;32mdef\u001b[0m \u001b[0m_amax\u001b[0m\u001b[0;34m(\u001b[0m\u001b[0ma\u001b[0m\u001b[0;34m,\u001b[0m \u001b[0maxis\u001b[0m\u001b[0;34m=\u001b[0m\u001b[0;32mNone\u001b[0m\u001b[0;34m,\u001b[0m \u001b[0mout\u001b[0m\u001b[0;34m=\u001b[0m\u001b[0;32mNone\u001b[0m\u001b[0;34m,\u001b[0m \u001b[0mkeepdims\u001b[0m\u001b[0;34m=\u001b[0m\u001b[0;32mFalse\u001b[0m\u001b[0;34m)\u001b[0m\u001b[0;34m:\u001b[0m\u001b[0;34m\u001b[0m\u001b[0m\n\u001b[0m\u001b[1;32m     26\u001b[0m     \u001b[0;32mreturn\u001b[0m \u001b[0mumr_maximum\u001b[0m\u001b[0;34m(\u001b[0m\u001b[0ma\u001b[0m\u001b[0;34m,\u001b[0m \u001b[0maxis\u001b[0m\u001b[0;34m,\u001b[0m \u001b[0;32mNone\u001b[0m\u001b[0;34m,\u001b[0m \u001b[0mout\u001b[0m\u001b[0;34m,\u001b[0m \u001b[0mkeepdims\u001b[0m\u001b[0;34m)\u001b[0m\u001b[0;34m\u001b[0m\u001b[0m\n\u001b[1;32m     27\u001b[0m \u001b[0;34m\u001b[0m\u001b[0m\n",
      "\u001b[0;31mKeyboardInterrupt\u001b[0m: "
     ]
    }
   ],
   "source": [
    "lambd = 0.01\n",
    "for it in range(50):\n",
    "    # 25 iterationq with 0.01, 25 with 1 (like in Zhang et al.)\n",
    "    if it > 24:\n",
    "        lambd=1\n",
    "    \n",
    "    # Minimization on M, b\n",
    "\n",
    "    Z_bar = np.mean(Z,axis=1,keepdims=True)\n",
    "    M_hat = Z.dot(Y.transpose()).dot(np.linalg.inv(Y.dot(Y.transpose())))\n",
    "    U,s,V = GSVD(M_hat,Y)\n",
    "    \n",
    "    M = U.T[:d_prime].T.dot(np.diag(s[:d_prime])).dot(V.T[:d_prime])\n",
    "    b = (Z_bar - M.dot(Y_bar)).reshape(d)\n",
    "\n",
    "    # Minimization on Z\n",
    "\n",
    "    Y_prime = M.dot(Y) + b.reshape(64,1)\n",
    "    Z_0 = np.minimum(Y_prime,0)\n",
    "    Z_1 = np.maximum((lambd*Y_prime + np.maximum(Y,0))/(1+lambd),0)\n",
    "\n",
    "    for i in range(d):\n",
    "        for j in range(n*n*len(Outputs)):\n",
    "            q0 = (np.max(Y[i][j],0)-np.max(Z_0[i][j],0))**2 + lambd*(Z_0[i][j]-Y_prime[i][j])**2\n",
    "            q1 = (np.max(Y[i][j],0)-np.max(Z_1[i][j],0))**2 + lambd*(Z_1[i][j]-Y_prime[i][j])**2\n",
    "            if q0 < q1:\n",
    "                Z[i][j] = Z_0[i][j]\n",
    "            else:\n",
    "                Z[i][j] = Z_1[i][j]\n",
    "                \n",
    "    print(\"Objective :\",np.sum((np.maximum(Y,0) - np.maximum(M.dot(Y) + b.reshape(64,1),0))**2))"
   ]
  },
  {
   "cell_type": "markdown",
   "metadata": {},
   "source": [
    "TESTS : Fonction GSVD"
   ]
  },
  {
   "cell_type": "code",
   "execution_count": 157,
   "metadata": {},
   "outputs": [
    {
     "name": "stdout",
     "output_type": "stream",
     "text": [
      "Test SVD : 7.22647799021e-07 (should be 0)\n",
      "Test SVD : 6.69716428092e-07 (should be 0)\n",
      "Test SVD : 9.58843133578e-06 (should be 0)\n",
      "Test SVD : 9.56596340984e-06 (should be 0)\n",
      "Test YYT = U S^2 U^T : 1.09314e-06 (should be 0)\n",
      "Test square root of YYT : 7.8858e-08 (should be 0)\n",
      "Test SVD : 9.05843122409e-15 (should be 0)\n",
      "Test SVD : 1.01250828739e-14 (should be 0)\n",
      "Test SVD : 9.9805172197e-15 (should be 0)\n",
      "Test SVD : 8.81492280428e-15 (should be 0)\n",
      "Test matrix inversion : 13400.5488281 (should be 0)\n",
      "Test result : 5.17204720354e+26 (should be 0)\n",
      "Test result : 1.01250828739e-14 (should be 0)\n"
     ]
    }
   ],
   "source": [
    "A = M_hat\n",
    "M = np.eye(A.shape[0])\n",
    "\n",
    "U_Y,s_Y,V_Y = np.linalg.svd(Y)\n",
    "print(\"Test SVD :\",np.linalg.norm((U_Y.transpose().dot(U_Y)) - np.eye(d),1),'(should be 0)')\n",
    "print(\"Test SVD :\",np.linalg.norm((U_Y.dot(U_Y.transpose())) - np.eye(d),1),'(should be 0)')\n",
    "print(\"Test SVD :\",np.linalg.norm((V_Y.transpose().dot(V_Y)) - np.eye(Y.shape[1]),1),'(should be 0)')\n",
    "print(\"Test SVD :\",np.linalg.norm((V_Y.dot(V_Y.transpose())) - np.eye(Y.shape[1]),1),'(should be 0)')\n",
    "\n",
    "YYT = U_Y.dot(np.diag(s_Y)**2).dot(U_Y.transpose())\n",
    "sqrtYYT = U_Y.dot(np.diag(s_Y)).dot(U_Y.transpose())\n",
    "print(\"Test YYT = U S^2 U^T :\",np.linalg.norm(YYT - Y.dot(Y.transpose()),1)/np.linalg.norm(Y.dot(Y.transpose()),1),'(should be 0)')\n",
    "print(\"Test square root of YYT :\",np.linalg.norm(sqrtYYT.dot(sqrtYYT) - YYT,1)/np.linalg.norm(YYT,1),'(should be 0)')\n",
    "\n",
    "A_tilde = M.dot(A).dot(sqrtYYT)\n",
    "U_SVD,s_SVD,V_SVD = np.linalg.svd(A_tilde,full_matrices=True)\n",
    "print(\"Test SVD :\",np.linalg.norm((U_SVD.transpose().dot(U_SVD)) - np.eye(d),1),'(should be 0)')\n",
    "print(\"Test SVD :\",np.linalg.norm((U_SVD.dot(U_SVD.transpose())) - np.eye(d),1),'(should be 0)')\n",
    "print(\"Test SVD :\",np.linalg.norm((V_SVD.transpose().dot(V_SVD)) - np.eye(d),1),'(should be 0)')\n",
    "print(\"Test SVD :\",np.linalg.norm((V_SVD.dot(V_SVD.transpose())) - np.eye(d),1),'(should be 0)')\n",
    "\n",
    "print(\"Test matrix inversion :\",np.linalg.norm(np.linalg.inv(sqrtYYT).dot(sqrtYYT) - np.eye(d),1),'(should be 0)')\n",
    "U,s,V = M.dot(U_SVD), s_SVD, np.linalg.inv(sqrtYYT).dot(V_SVD.transpose())\n",
    "print(\"Test result :\",np.linalg.norm(V.dot(YYT).dot(V.transpose()) - np.eye(d),1),'(should be 0)')\n",
    "print(\"Test result :\",np.linalg.norm(U.dot(U.transpose()) - np.eye(d),1),'(should be 0)')"
   ]
  },
  {
   "cell_type": "code",
   "execution_count": 156,
   "metadata": {},
   "outputs": [
    {
     "data": {
      "text/plain": [
       "9.9991381749167597e+25"
      ]
     },
     "execution_count": 156,
     "metadata": {},
     "output_type": "execute_result"
    }
   ],
   "source": [
    "V = np.linalg.inv(sqrtYYT).dot(V_SVD.transpose())\n",
    "np.linalg.norm(V.dot(YYT).dot(V.transpose()) - np.eye(d),1)"
   ]
  },
  {
   "cell_type": "code",
   "execution_count": null,
   "metadata": {
    "collapsed": true
   },
   "outputs": [],
   "source": []
  }
 ],
 "metadata": {
  "kernelspec": {
   "display_name": "Python 3",
   "language": "python",
   "name": "python3"
  }
 },
 "nbformat": 4,
 "nbformat_minor": 2
}
