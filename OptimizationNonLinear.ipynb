{
 "cells": [
  {
   "cell_type": "code",
   "execution_count": 1,
   "metadata": {
    "collapsed": true
   },
   "outputs": [],
   "source": [
    "import numpy as np\n",
    "import matplotlib.pyplot as plt\n",
    "import scipy.linalg\n",
    "\n",
    "%matplotlib inline"
   ]
  },
  {
   "cell_type": "markdown",
   "metadata": {},
   "source": [
    "Chargement des données"
   ]
  },
  {
   "cell_type": "code",
   "execution_count": 2,
   "metadata": {
    "collapsed": true
   },
   "outputs": [],
   "source": [
    "output_conv1 = np.load('Outputs/output_conv1.npy')\n",
    "output_conv1_br = np.load('Outputs/output_conv1_br.npy')\n",
    "\n",
    "weights = np.load('parameters/vgg16_weights.npz')"
   ]
  },
  {
   "cell_type": "markdown",
   "metadata": {},
   "source": [
    "Entrées de l'algorithme"
   ]
  },
  {
   "cell_type": "code",
   "execution_count": 3,
   "metadata": {
    "collapsed": true
   },
   "outputs": [],
   "source": [
    "output = output_conv1_br.reshape(224*224,64)[:100].reshape(10,10,64)\n",
    "Outputs = [output,output]"
   ]
  },
  {
   "cell_type": "code",
   "execution_count": 4,
   "metadata": {
    "collapsed": true
   },
   "outputs": [],
   "source": [
    "W_w = weights['conv1_1_W']\n",
    "W_b = weights['conv1_1_b']"
   ]
  },
  {
   "cell_type": "markdown",
   "metadata": {},
   "source": [
    "Cas non-linéaire"
   ]
  },
  {
   "cell_type": "code",
   "execution_count": 5,
   "metadata": {
    "collapsed": true
   },
   "outputs": [],
   "source": [
    "d_prime = 10"
   ]
  },
  {
   "cell_type": "code",
   "execution_count": 6,
   "metadata": {
    "collapsed": true
   },
   "outputs": [],
   "source": [
    "def GSVD(A,Y):\n",
    "    M = np.eye(A.shape[0])\n",
    "    \n",
    "    U,s,V = np.linalg.svd(Y)\n",
    "    sqrtYYT = U.dot(np.diag(s)).dot(U.transpose())\n",
    "    \n",
    "    A_tilde = M.dot(A).dot(sqrtYYT)\n",
    "    U,s,V = np.linalg.svd(A_tilde,full_matrices=True)\n",
    "    \n",
    "    return M.dot(U), s, np.linalg.inv(sqrtYYT).dot(V.transpose())"
   ]
  },
  {
   "cell_type": "code",
   "execution_count": 7,
   "metadata": {
    "collapsed": true
   },
   "outputs": [],
   "source": [
    "k = W_w.shape[0]\n",
    "c = W_w.shape[2]\n",
    "d = W_w.shape[3]\n",
    "n = Outputs[0].shape[0]\n",
    "\n",
    "Y = Outputs[0].reshape(n*n,d).transpose()\n",
    "for i in range(1,len(Outputs)):\n",
    "    Y = np.concatenate((Y,Outputs[i].reshape(n*n,d).transpose()),axis=1)\n",
    "Y_bar = np.mean(Y,axis=1,keepdims=True)\n",
    "Y = Y - Y_bar\n",
    "\n",
    "Z = np.zeros(Y.shape)"
   ]
  },
  {
   "cell_type": "code",
   "execution_count": 8,
   "metadata": {},
   "outputs": [
    {
     "name": "stdout",
     "output_type": "stream",
     "text": [
      "Objective : 1186276.10036\n",
      "Objective : 1.31401325961e+15\n",
      "Objective : 7.37589129585e+21\n",
      "Objective : 4.13675815842e+28\n",
      "Objective : 2.32009403307e+35\n"
     ]
    }
   ],
   "source": [
    "lambd = 0.01\n",
    "for it in range(5):\n",
    "    # 25 iterations with 0.01, 25 with 1 (like in Zhang et al.)\n",
    "    if it > 24:\n",
    "        lambd=1\n",
    "    \n",
    "    # Minimization on M, b\n",
    "\n",
    "    Z_bar = np.mean(Z,axis=1,keepdims=True)\n",
    "    M_hat = Z.dot(Y.transpose()).dot(np.linalg.inv(Y.dot(Y.transpose())))\n",
    "    U,s,V = GSVD(M_hat,Y)\n",
    "    \n",
    "    M = U.T[:d_prime].T.dot(np.diag(s[:d_prime])).dot(V.T[:d_prime])\n",
    "    b = (Z_bar - M.dot(Y_bar)).reshape(d)\n",
    "\n",
    "    # Minimization on Z\n",
    "\n",
    "    Y_prime = M.dot(Y) + b.reshape(64,1)\n",
    "    Z_0 = np.minimum(Y_prime,0)\n",
    "    Z_1 = np.maximum((lambd*Y_prime + np.maximum(Y,0))/(1+lambd),0)\n",
    "\n",
    "    for i in range(d):\n",
    "        for j in range(n*n*len(Outputs)):\n",
    "            q0 = (np.max(Y[i][j],0)-np.max(Z_0[i][j],0))**2 + lambd*(Z_0[i][j]-Y_prime[i][j])**2\n",
    "            q1 = (np.max(Y[i][j],0)-np.max(Z_1[i][j],0))**2 + lambd*(Z_1[i][j]-Y_prime[i][j])**2\n",
    "            if q0 < q1:\n",
    "                Z[i][j] = Z_0[i][j]\n",
    "            else:\n",
    "                Z[i][j] = Z_1[i][j]\n",
    "                \n",
    "    print(\"Objective :\",np.sum((np.maximum(Y,0) - np.maximum(M.dot(Y) + b.reshape(64,1),0))**2))"
   ]
  },
  {
   "cell_type": "markdown",
   "metadata": {},
   "source": [
    "TESTS : Fonction GSVD"
   ]
  },
  {
   "cell_type": "code",
   "execution_count": 9,
   "metadata": {},
   "outputs": [
    {
     "name": "stdout",
     "output_type": "stream",
     "text": [
      "Test matrix inversion : 13400.5488281 (should be 0)\n",
      "Test result : 1.20479503598e+26 (should be 0)\n"
     ]
    }
   ],
   "source": [
    "A = M_hat\n",
    "M = np.eye(A.shape[0])\n",
    "\n",
    "U_Y,s_Y,V_Y = np.linalg.svd(Y)\n",
    "s_mod = [s_Y[i] if i < len(s_Y) else 0 for i in range(Y.shape[0])]\n",
    "\n",
    "YYT = U_Y.dot(np.diag(s_mod)**2).dot(U_Y.transpose())\n",
    "sqrtYYT = U_Y.dot(np.diag(s_mod)).dot(U_Y.transpose())\n",
    "\n",
    "A_tilde = M.dot(A).dot(sqrtYYT)\n",
    "U_SVD,s_SVD,V_SVD = np.linalg.svd(A_tilde,full_matrices=True)\n",
    "\n",
    "print(\"Test matrix inversion :\",np.linalg.norm(np.linalg.inv(sqrtYYT).dot(sqrtYYT) - np.eye(d),1),'(should be 0)')\n",
    "U,s,V = M.dot(U_SVD), s_SVD, np.linalg.inv(sqrtYYT).dot(V_SVD.transpose())\n",
    "print(\"Test result :\",np.linalg.norm(V.dot(YYT).dot(V.transpose()) - np.eye(d),1),'(should be 0)')"
   ]
  }
 ],
 "metadata": {
  "kernelspec": {
   "display_name": "Python 3",
   "language": "python",
   "name": "python3"
  },
  "language_info": {
   "codemirror_mode": {
    "name": "ipython",
    "version": 3
   },
   "file_extension": ".py",
   "mimetype": "text/x-python",
   "name": "python",
   "nbconvert_exporter": "python",
   "pygments_lexer": "ipython3",
   "version": "3.6.2"
  }
 },
 "nbformat": 4,
 "nbformat_minor": 2
}
