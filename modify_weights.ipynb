{
 "cells": [
  {
   "cell_type": "code",
   "execution_count": 1,
   "metadata": {
    "collapsed": true
   },
   "outputs": [],
   "source": [
    "import numpy as np"
   ]
  },
  {
   "cell_type": "code",
   "execution_count": null,
   "metadata": {
    "collapsed": true
   },
   "outputs": [],
   "source": [
    "weights = np.load('parameters/vgg16_weights.npz')\n",
    "weights_ = dict(weights)\n",
    "\n",
    "W_prime = np.load('parameters/W_prime.npy')\n",
    "b = np.load('parameters/b.npy')\n",
    "P = np.load('parameters/P.npy')"
   ]
  },
  {
   "cell_type": "code",
   "execution_count": null,
   "metadata": {
    "collapsed": true
   },
   "outputs": [],
   "source": [
    "weights_['conv1_11_W'] = W_prime[:,:27].transpose().reshape(3,3,3,50)\n",
    "weights_['conv1_11_b'] = W_prime[:,27]\n",
    "weights_['conv1_12_W'] = P.transpose().reshape(1,1,50,64)\n",
    "weights_['conv1_12_b'] = b\n",
    "del weights_['conv1_1_W']\n",
    "del weights_['conv1_1_b']"
   ]
  },
  {
   "cell_type": "code",
   "execution_count": null,
   "metadata": {
    "collapsed": true
   },
   "outputs": [],
   "source": [
    "np.savez('vgg16_weights_acc', **weights_)"
   ]
  },
  {
   "cell_type": "code",
   "execution_count": null,
   "metadata": {
    "collapsed": true
   },
   "outputs": [],
   "source": [
    "weights_changed = np.load('gg16_weights_acc.npz')"
   ]
  },
  {
   "cell_type": "code",
   "execution_count": null,
   "metadata": {
    "collapsed": true
   },
   "outputs": [],
   "source": [
    "weights_changed['conv1_11_W'].shape"
   ]
  },
  {
   "cell_type": "markdown",
   "metadata": {},
   "source": [
    "Test images"
   ]
  },
  {
   "cell_type": "code",
   "execution_count": 50,
   "metadata": {
    "collapsed": true
   },
   "outputs": [],
   "source": [
    "from PIL import Image\n",
    "\n",
    "imgs = np.load('data_test/val_data')\n",
    "i = np.random.randint(0,len(imgs['labels']))"
   ]
  },
  {
   "cell_type": "code",
   "execution_count": 51,
   "metadata": {
    "collapsed": true
   },
   "outputs": [],
   "source": [
    "img = imgs['data'][i].reshape(3,64,64).T\n",
    "img0 = Image.fromarray(img, 'RGB')\n",
    "img0.show()"
   ]
  },
  {
   "cell_type": "markdown",
   "metadata": {},
   "source": []
  }
 ],
 "metadata": {
  "kernelspec": {
   "display_name": "Python 3",
   "language": "python",
   "name": "python3"
  },
  "language_info": {
   "codemirror_mode": {
    "name": "ipython",
    "version": 3
   },
   "file_extension": ".py",
   "mimetype": "text/x-python",
   "name": "python",
   "nbconvert_exporter": "python",
   "pygments_lexer": "ipython3",
   "version": "3.6.2"
  }
 },
 "nbformat": 4,
 "nbformat_minor": 2
}
