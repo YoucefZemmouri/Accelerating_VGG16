{
 "cells": [
  {
   "cell_type": "code",
   "execution_count": 32,
   "metadata": {},
   "outputs": [
    {
     "name": "stdout",
     "output_type": "stream",
     "text": [
      "Populating the interactive namespace from numpy and matplotlib\n"
     ]
    }
   ],
   "source": [
    "import numpy as np\n",
    "import matplotlib.pyplot as plt\n",
    "import matplotlib.image as mpimg\n",
    "%pylab inline"
   ]
  },
  {
   "cell_type": "code",
   "execution_count": 31,
   "metadata": {},
   "outputs": [
    {
     "data": {
      "text/plain": [
       "['conv1_1_W',\n",
       " 'conv1_1_b',\n",
       " 'conv1_2_W',\n",
       " 'conv1_2_b',\n",
       " 'conv2_1_W',\n",
       " 'conv2_1_b',\n",
       " 'conv2_2_W',\n",
       " 'conv2_2_b',\n",
       " 'conv3_1_W',\n",
       " 'conv3_1_b',\n",
       " 'conv3_2_W',\n",
       " 'conv3_2_b',\n",
       " 'conv3_3_W',\n",
       " 'conv3_3_b',\n",
       " 'conv4_1_W',\n",
       " 'conv4_1_b',\n",
       " 'conv4_2_W',\n",
       " 'conv4_2_b',\n",
       " 'conv4_3_W',\n",
       " 'conv4_3_b',\n",
       " 'conv5_1_W',\n",
       " 'conv5_1_b',\n",
       " 'conv5_2_W',\n",
       " 'conv5_2_b',\n",
       " 'conv5_3_W',\n",
       " 'conv5_3_b',\n",
       " 'fc6_W',\n",
       " 'fc6_b',\n",
       " 'fc7_W',\n",
       " 'fc7_b',\n",
       " 'fc8_W',\n",
       " 'fc8_b']"
      ]
     },
     "execution_count": 31,
     "metadata": {},
     "output_type": "execute_result"
    }
   ],
   "source": [
    "weights = np.load('vgg16_weights.npz')\n",
    "sorted(weights.files)"
   ]
  },
  {
   "cell_type": "code",
   "execution_count": 28,
   "metadata": {},
   "outputs": [
    {
     "data": {
      "text/plain": [
       "(512,)"
      ]
     },
     "execution_count": 28,
     "metadata": {},
     "output_type": "execute_result"
    }
   ],
   "source": [
    "weights['conv4_3_b'].shape"
   ]
  },
  {
   "cell_type": "code",
   "execution_count": 30,
   "metadata": {},
   "outputs": [
    {
     "data": {
      "text/plain": [
       "(64,)"
      ]
     },
     "execution_count": 30,
     "metadata": {},
     "output_type": "execute_result"
    }
   ],
   "source": [
    "weights['conv1_1_b'].shape"
   ]
  },
  {
   "cell_type": "code",
   "execution_count": null,
   "metadata": {
    "collapsed": true
   },
   "outputs": [],
   "source": []
  }
 ],
 "metadata": {
  "kernelspec": {
   "display_name": "Python 3",
   "language": "python",
   "name": "python3"
  },
  "language_info": {
   "codemirror_mode": {
    "name": "ipython",
    "version": 3
   },
   "file_extension": ".py",
   "mimetype": "text/x-python",
   "name": "python",
   "nbconvert_exporter": "python",
   "pygments_lexer": "ipython3",
   "version": "3.6.3"
  }
 },
 "nbformat": 4,
 "nbformat_minor": 2
}
