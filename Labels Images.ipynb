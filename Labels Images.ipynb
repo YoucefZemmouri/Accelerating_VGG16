{
 "cells": [
  {
   "cell_type": "code",
   "execution_count": 1,
   "metadata": {
    "collapsed": true
   },
   "outputs": [],
   "source": [
    "import numpy as np\n",
    "from PIL import Image\n",
    "\n",
    "from imagenet_classes import class_names\n",
    "from imagenet_classes_other import class_names_other"
   ]
  },
  {
   "cell_type": "markdown",
   "metadata": {},
   "source": [
    "#### Test si les deux listes de classes sont les mêmes\n",
    "\n",
    "Note : class_names_other est de taille 1001 car les indices des labels dans le dataset téléchargé sur ImageNet commencent à 1. J'ai rajouté une composante \"nothing\" au début (indice 0)"
   ]
  },
  {
   "cell_type": "code",
   "execution_count": 2,
   "metadata": {},
   "outputs": [
    {
     "name": "stdout",
     "output_type": "stream",
     "text": [
      "nothing\n"
     ]
    }
   ],
   "source": [
    "for i in class_names:\n",
    "    if i not in class_names_other:\n",
    "        print(i)\n",
    "\n",
    "for i in class_names_other:\n",
    "    if i not in class_names:\n",
    "        print(i)"
   ]
  },
  {
   "cell_type": "markdown",
   "metadata": {},
   "source": [
    "#### Test de la liste class_names_other"
   ]
  },
  {
   "cell_type": "markdown",
   "metadata": {},
   "source": [
    "class_names_other donne les labels (sous forme de texte) pour les données téléchargées sur ImageNet"
   ]
  },
  {
   "cell_type": "code",
   "execution_count": 3,
   "metadata": {
    "collapsed": true
   },
   "outputs": [],
   "source": [
    "imgs = np.load('data_test/val_data')"
   ]
  },
  {
   "cell_type": "code",
   "execution_count": 6,
   "metadata": {
    "collapsed": true
   },
   "outputs": [],
   "source": [
    "i = np.random.randint(0,len(imgs['labels']))\n",
    "img = np.swapaxes(imgs['data'][i].reshape(3,64,64).T,0,1)\n",
    "label = imgs['labels'][i]\n",
    "img0 = Image.fromarray(img, 'RGB')\n",
    "img0.show()"
   ]
  },
  {
   "cell_type": "code",
   "execution_count": 7,
   "metadata": {},
   "outputs": [
    {
     "data": {
      "text/plain": [
       "'croquet_ball'"
      ]
     },
     "execution_count": 7,
     "metadata": {},
     "output_type": "execute_result"
    }
   ],
   "source": [
    "class_names_other[label]"
   ]
  },
  {
   "cell_type": "markdown",
   "metadata": {},
   "source": [
    "Testé plusieurs fois, ça retourne le bon label"
   ]
  }
 ],
 "metadata": {
  "kernelspec": {
   "display_name": "Python 3",
   "language": "python",
   "name": "python3"
  },
  "language_info": {
   "codemirror_mode": {
    "name": "ipython",
    "version": 3
   },
   "file_extension": ".py",
   "mimetype": "text/x-python",
   "name": "python",
   "nbconvert_exporter": "python",
   "pygments_lexer": "ipython3",
   "version": "3.6.2"
  }
 },
 "nbformat": 4,
 "nbformat_minor": 2
}
